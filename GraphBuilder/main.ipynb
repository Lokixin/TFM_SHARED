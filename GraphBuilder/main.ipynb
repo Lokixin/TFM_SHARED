{
 "cells": [
  {
   "cell_type": "code",
   "execution_count": 1,
   "metadata": {},
   "outputs": [],
   "source": [
    "from data_reader import read_record\n",
    "from data_explorer import DataExplorer"
   ]
  },
  {
   "cell_type": "code",
   "execution_count": 2,
   "metadata": {},
   "outputs": [],
   "source": [
    "ROOT_PATH = r\"C:\\Projects\\TFM\\dataset\\AD_MCI_HC\"\n",
    "PATH = \"C:/Projects/TFM/dataset/AD_MCI_HC_WINDOWED/AD/Patient_2_AD_T0_filtered_0.mat\""
   ]
  },
  {
   "cell_type": "code",
   "execution_count": 3,
   "metadata": {},
   "outputs": [
    {
     "data": {
      "text/plain": [
       "(19, 1280)"
      ]
     },
     "execution_count": 3,
     "metadata": {},
     "output_type": "execute_result"
    }
   ],
   "source": [
    "record = read_record(PATH)\n",
    "# Number of channels, samples per channel\n",
    "record.shape"
   ]
  },
  {
   "cell_type": "code",
   "execution_count": 4,
   "metadata": {},
   "outputs": [
    {
     "data": {
      "text/plain": [
       "{'AD': 64, 'HC': 64, 'MCI': 64}"
      ]
     },
     "execution_count": 4,
     "metadata": {},
     "output_type": "execute_result"
    }
   ],
   "source": [
    "explorer = DataExplorer(ROOT_PATH)\n",
    "# Class Name: number of records\n",
    "explorer.records_per_class()"
   ]
  },
  {
   "cell_type": "code",
   "execution_count": 5,
   "metadata": {},
   "outputs": [
    {
     "name": "stdout",
     "output_type": "stream",
     "text": [
      "File: C:\\Projects\\TFM\\dataset\\AD_MCI_HC\\MCI\\Patient_155_MCI_T1_filtered_CLEAN.mat could not be readen\n",
      "File: C:\\Projects\\TFM\\dataset\\AD_MCI_HC\\MCI\\Patient_178_MCI_T0_filtered_CLEAN.mat could not be readen\n"
     ]
    },
    {
     "data": {
      "text/plain": [
       "{'min': 6911,\n",
       " 'max': 284672,\n",
       " 'mean': 94065.48663101604,\n",
       " 'median': 82674,\n",
       " 'std': 62945.26224170989,\n",
       " 'quantiles': [48383.0, 82674.0, 116196.0]}"
      ]
     },
     "execution_count": 5,
     "metadata": {},
     "output_type": "execute_result"
    }
   ],
   "source": [
    "stats = explorer.min_max_sample_amount()\n",
    "stats"
   ]
  },
  {
   "cell_type": "code",
   "execution_count": 7,
   "metadata": {},
   "outputs": [],
   "source": [
    "%matplotlib qt5\n",
    "explorer.plot_record(record)"
   ]
  },
  {
   "cell_type": "code",
   "execution_count": 9,
   "metadata": {},
   "outputs": [],
   "source": [
    "explorer.plot_channel(record, 3)\n"
   ]
  },
  {
   "cell_type": "code",
   "execution_count": 9,
   "metadata": {},
   "outputs": [
    {
     "data": {
      "text/plain": [
       "Data(x=[19, 284672], edge_index=[2, 361], edge_attr=[19, 19], label=[3])"
      ]
     },
     "execution_count": 9,
     "metadata": {},
     "output_type": "execute_result"
    }
   ],
   "source": [
    "from graphbuilder import RawAndPearson\n",
    "\n",
    "raw_builder = RawAndPearson()\n",
    "data = raw_builder.build(record, 1)\n",
    "print(data)"
   ]
  },
  {
   "cell_type": "code",
   "execution_count": 11,
   "metadata": {},
   "outputs": [
    {
     "name": "stdout",
     "output_type": "stream",
     "text": [
      "tensor([[ -2.9844,  -4.5848,  -5.2236,  ...,   0.0000,   0.0000,   0.0000],\n",
      "        [-14.9402, -21.2712, -25.4098,  ...,   0.0000,   0.0000,   0.0000],\n",
      "        [  1.4007,   1.6480,   1.5950,  ...,   0.0000,   0.0000,   0.0000],\n",
      "        ...,\n",
      "        [ -0.0739,  -1.0259,  -2.7256,  ...,   0.0000,   0.0000,   0.0000],\n",
      "        [ -2.1892,  -3.9464,  -4.4162,  ...,   0.0000,   0.0000,   0.0000],\n",
      "        [ -0.8315,  -1.3317,  -2.3630,  ...,   0.0000,   0.0000,   0.0000]],\n",
      "       dtype=torch.float64)\n",
      "tensor([[1.0000, 0.5118, 0.7759, 0.8845, 0.8572, 0.7382, 0.6772, 0.4240, 0.6496,\n",
      "         0.6960, 0.6560, 0.6696, 0.4876, 0.5704, 0.5868, 0.6011, 0.5294, 0.5237,\n",
      "         0.4624],\n",
      "        [0.5118, 1.0000, 0.3829, 0.4867, 0.5411, 0.5228, 0.5851, 0.2047, 0.3758,\n",
      "         0.4361, 0.4387, 0.5200, 0.3135, 0.3495, 0.3870, 0.4197, 0.4352, 0.3534,\n",
      "         0.3705],\n",
      "        [0.7759, 0.3829, 1.0000, 0.7994, 0.7075, 0.5640, 0.5443, 0.3218, 0.6903,\n",
      "         0.6806, 0.5746, 0.5836, 0.5637, 0.6256, 0.6090, 0.5866, 0.5069, 0.5725,\n",
      "         0.4340],\n",
      "        [0.8845, 0.4867, 0.7994, 1.0000, 0.9271, 0.7864, 0.6868, 0.4525, 0.8023,\n",
      "         0.8484, 0.7467, 0.7462, 0.5989, 0.7285, 0.7457, 0.7366, 0.5894, 0.6445,\n",
      "         0.5468],\n",
      "        [0.8572, 0.5411, 0.7075, 0.9271, 1.0000, 0.8517, 0.7683, 0.3993, 0.7398,\n",
      "         0.8400, 0.7933, 0.8096, 0.5340, 0.6608, 0.7103, 0.7401, 0.6235, 0.5979,\n",
      "         0.5510],\n",
      "        [0.7382, 0.5228, 0.5640, 0.7864, 0.8517, 1.0000, 0.7997, 0.3615, 0.6504,\n",
      "         0.7636, 0.7786, 0.8352, 0.5468, 0.6398, 0.7043, 0.7431, 0.6201, 0.6219,\n",
      "         0.5771],\n",
      "        [0.6772, 0.5851, 0.5443, 0.6868, 0.7683, 0.7997, 1.0000, 0.2934, 0.5714,\n",
      "         0.6685, 0.6969, 0.8365, 0.5036, 0.5411, 0.6196, 0.6795, 0.7065, 0.5681,\n",
      "         0.5940],\n",
      "        [0.4240, 0.2047, 0.3218, 0.4525, 0.3993, 0.3615, 0.2934, 1.0000, 0.3929,\n",
      "         0.4524, 0.4494, 0.3630, 0.4261, 0.4864, 0.4561, 0.4035, 0.3116, 0.4223,\n",
      "         0.3752],\n",
      "        [0.6496, 0.3758, 0.6903, 0.8023, 0.7398, 0.6504, 0.5714, 0.3929, 1.0000,\n",
      "         0.8717, 0.6853, 0.6939, 0.6752, 0.8292, 0.8089, 0.7578, 0.5947, 0.7169,\n",
      "         0.5744],\n",
      "        [0.6960, 0.4361, 0.6806, 0.8484, 0.8400, 0.7636, 0.6685, 0.4524, 0.8717,\n",
      "         1.0000, 0.8556, 0.8266, 0.6807, 0.8607, 0.8861, 0.8746, 0.6984, 0.7604,\n",
      "         0.6377],\n",
      "        [0.6560, 0.4387, 0.5746, 0.7467, 0.7933, 0.7786, 0.6969, 0.4494, 0.6853,\n",
      "         0.8556, 1.0000, 0.8701, 0.5894, 0.7432, 0.8118, 0.8501, 0.7167, 0.6745,\n",
      "         0.6081],\n",
      "        [0.6696, 0.5200, 0.5836, 0.7462, 0.8096, 0.8352, 0.8365, 0.3630, 0.6939,\n",
      "         0.8266, 0.8701, 1.0000, 0.6252, 0.7189, 0.8120, 0.8846, 0.8766, 0.7224,\n",
      "         0.7525],\n",
      "        [0.4876, 0.3135, 0.5637, 0.5989, 0.5340, 0.5468, 0.5036, 0.4261, 0.6752,\n",
      "         0.6807, 0.5894, 0.6252, 1.0000, 0.8175, 0.7922, 0.7274, 0.6215, 0.9199,\n",
      "         0.6306],\n",
      "        [0.5704, 0.3495, 0.6256, 0.7285, 0.6608, 0.6398, 0.5411, 0.4864, 0.8292,\n",
      "         0.8607, 0.7432, 0.7189, 0.8175, 1.0000, 0.9368, 0.8584, 0.6604, 0.8878,\n",
      "         0.6706],\n",
      "        [0.5868, 0.3870, 0.6090, 0.7457, 0.7103, 0.7043, 0.6196, 0.4561, 0.8089,\n",
      "         0.8861, 0.8118, 0.8120, 0.7922, 0.9368, 1.0000, 0.9367, 0.7430, 0.8867,\n",
      "         0.7296],\n",
      "        [0.6011, 0.4197, 0.5866, 0.7366, 0.7401, 0.7431, 0.6795, 0.4035, 0.7578,\n",
      "         0.8746, 0.8501, 0.8846, 0.7274, 0.8584, 0.9367, 1.0000, 0.8125, 0.8339,\n",
      "         0.7772],\n",
      "        [0.5294, 0.4352, 0.5069, 0.5894, 0.6235, 0.6201, 0.7065, 0.3116, 0.5947,\n",
      "         0.6984, 0.7167, 0.8766, 0.6215, 0.6604, 0.7430, 0.8125, 1.0000, 0.7121,\n",
      "         0.8140],\n",
      "        [0.5237, 0.3534, 0.5725, 0.6445, 0.5979, 0.6219, 0.5681, 0.4223, 0.7169,\n",
      "         0.7604, 0.6745, 0.7224, 0.9199, 0.8878, 0.8867, 0.8339, 0.7121, 1.0000,\n",
      "         0.7257],\n",
      "        [0.4624, 0.3705, 0.4340, 0.5468, 0.5510, 0.5771, 0.5940, 0.3752, 0.5744,\n",
      "         0.6377, 0.6081, 0.7525, 0.6306, 0.6706, 0.7296, 0.7772, 0.8140, 0.7257,\n",
      "         1.0000]], dtype=torch.float64)\n",
      "torch.Size([19, 284672])\n",
      "torch.Size([19, 19])\n"
     ]
    }
   ],
   "source": [
    "print(data.x)\n",
    "print(data.edge_attr)\n",
    "print(data.x.shape)\n",
    "print(data.edge_attr.shape)"
   ]
  },
  {
   "cell_type": "code",
   "execution_count": null,
   "metadata": {},
   "outputs": [],
   "source": []
  }
 ],
 "metadata": {
  "interpreter": {
   "hash": "49828187f4dc564a08cffdc3b9732e1c7952dfdfaa36f705d81755fe28017e2e"
  },
  "kernelspec": {
   "display_name": "Python 3.9.4 ('tfm')",
   "language": "python",
   "name": "python3"
  },
  "language_info": {
   "codemirror_mode": {
    "name": "ipython",
    "version": 3
   },
   "file_extension": ".py",
   "mimetype": "text/x-python",
   "name": "python",
   "nbconvert_exporter": "python",
   "pygments_lexer": "ipython3",
   "version": "3.9.4"
  },
  "orig_nbformat": 4
 },
 "nbformat": 4,
 "nbformat_minor": 2
}
